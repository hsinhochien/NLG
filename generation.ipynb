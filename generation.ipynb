{
 "cells": [
  {
   "cell_type": "code",
   "execution_count": 11,
   "metadata": {},
   "outputs": [],
   "source": [
    "from torch.utils.data import DataLoader\n",
    "from transformers import AutoTokenizer, MT5ForConditionalGeneration, DataCollatorForSeq2Seq\n",
    "import json\n",
    "import warnings\n",
    "import logging\n",
    "from datasets import Dataset\n",
    "import pandas as pd\n",
    "from tw_rouge import get_rouge\n",
    "from tqdm import tqdm\n",
    "\n",
    "warnings.filterwarnings(\"ignore\", category=FutureWarning)\n",
    "warnings.filterwarnings(\"ignore\", category=UserWarning)\n",
    "loggers = [logging.getLogger(name) for name in logging.root.manager.loggerDict]\n",
    "for logger in loggers:\n",
    "    if \"transformers\" in logger.name.lower():\n",
    "        logger.setLevel(logging.ERROR)\n",
    "\n",
    "def read_jsonl(file_path):\n",
    "    data = []\n",
    "    with open(file_path, 'r', encoding='utf-8') as file:\n",
    "        for line in file:\n",
    "            json_data = json.loads(line)  # 將每一行轉換為JSON對象\n",
    "            data.append(json_data)\n",
    "    return data\n",
    "\n",
    "model = MT5ForConditionalGeneration.from_pretrained(\"./my_model\").to("cuda")\n",
    "tokenizer = AutoTokenizer.from_pretrained(\"./my_model\")"
   ]
  },
  {
   "cell_type": "code",
   "execution_count": 12,
   "metadata": {},
   "outputs": [
    {
     "data": {
      "application/vnd.jupyter.widget-view+json": {
       "model_id": "f885971f92b9482691340cf21d078306",
       "version_major": 2,
       "version_minor": 0
      },
      "text/plain": [
       "Map:   0%|          | 0/5494 [00:00<?, ? examples/s]"
      ]
     },
     "metadata": {},
     "output_type": "display_data"
    }
   ],
   "source": [
    "test_data = read_jsonl(\"data/public.jsonl\")\n",
    "\n",
    "def preprocess_function(examples):\n",
    "    model_inputs = tokenizer(examples[\"maintext\"], max_length=256, truncation=True, padding=True, return_tensors=\"pt\")\n",
    "    return model_inputs\n",
    "\n",
    "# Convert test data to Dataset and preprocess\n",
    "test_dataset = Dataset.from_pandas(pd.DataFrame(test_data))\n",
    "tokenized_test_dataset = test_dataset.map(preprocess_function, batched=True, remove_columns=test_dataset.column_names)"
   ]
  },
  {
   "cell_type": "code",
   "execution_count": 15,
   "metadata": {},
   "outputs": [
    {
     "name": "stderr",
     "output_type": "stream",
     "text": [
      "Generating predictions: 100%|██████████| 344/344 [1:04:48<00:00, 11.30s/it]\n"
     ]
    }
   ],
   "source": [
    "# Create DataLoader\n",
    "collator = DataCollatorForSeq2Seq(tokenizer, model=model)\n",
    "test_dataloader = DataLoader(tokenized_test_dataset, batch_size=16, collate_fn=collator)\n",
    "\n",
    "# Generate predictions\n",
    "def generate_predictions(batch):\n",
    "    inputs = batch[\"input_ids\"].to(model.device)\n",
    "    attention_mask = batch[\"attention_mask\"].to(model.device)\n",
    "\n",
    "    outputs = model.generate(\n",
    "        input_ids=inputs, \n",
    "        attention_mask=attention_mask, \n",
    "        max_length=64, \n",
    "        # do_sample=True,   # 開啟 sampling\n",
    "        num_beams=7,\n",
    "        # temperature=0.8      \n",
    "    )\n",
    "    return tokenizer.batch_decode(outputs, skip_special_tokens=True)\n",
    "\n",
    "# Batch-wise inference\n",
    "predictions = []\n",
    "\n",
    "for batch in tqdm(test_dataloader, desc=\"Generating predictions\"):\n",
    "    preds = generate_predictions(batch)\n",
    "    predictions.extend(preds)"
   ]
  },
  {
   "cell_type": "code",
   "execution_count": 16,
   "metadata": {},
   "outputs": [
    {
     "name": "stdout",
     "output_type": "stream",
     "text": [
      "rouge-1_r: 0.2054\n",
      "rouge-1_p: 0.2768\n",
      "rouge-1_f: 0.2243\n",
      "rouge-2_r: 0.0827\n",
      "rouge-2_p: 0.1097\n",
      "rouge-2_f: 0.0893\n",
      "rouge-l_r: 0.1871\n",
      "rouge-l_p: 0.2532\n",
      "rouge-l_f: 0.2045\n"
     ]
    }
   ],
   "source": [
    "# Extract reference labels (true titles)\n",
    "references = [example[\"title\"] for example in test_data]\n",
    "\n",
    "# Compute ROUGE scores using tw_rouge\n",
    "rouge_result = get_rouge(predictions, references)\n",
    "\n",
    "# Flattening the ROUGE result dictionary for better readability\n",
    "flat_rouge_result = {}\n",
    "for k, v in rouge_result.items():\n",
    "    if isinstance(v, dict):\n",
    "        for sub_k, sub_v in v.items():\n",
    "            flat_rouge_result[f\"{k}_{sub_k}\"] = sub_v\n",
    "    else:\n",
    "        flat_rouge_result[k] = v\n",
    "\n",
    "# Display the ROUGE results\n",
    "for metric, score in flat_rouge_result.items():\n",
    "    print(f\"{metric}: {score:.4f}\")"
   ]
  },
  {
   "cell_type": "code",
   "execution_count": null,
   "metadata": {},
   "outputs": [],
   "source": []
  }
 ],
 "metadata": {
  "kernelspec": {
   "display_name": "Python 3",
   "language": "python",
   "name": "python3"
  },
  "language_info": {
   "codemirror_mode": {
    "name": "ipython",
    "version": 3
   },
   "file_extension": ".py",
   "mimetype": "text/x-python",
   "name": "python",
   "nbconvert_exporter": "python",
   "pygments_lexer": "ipython3",
   "version": "3.10.11"
  }
 },
 "nbformat": 4,
 "nbformat_minor": 2
}
